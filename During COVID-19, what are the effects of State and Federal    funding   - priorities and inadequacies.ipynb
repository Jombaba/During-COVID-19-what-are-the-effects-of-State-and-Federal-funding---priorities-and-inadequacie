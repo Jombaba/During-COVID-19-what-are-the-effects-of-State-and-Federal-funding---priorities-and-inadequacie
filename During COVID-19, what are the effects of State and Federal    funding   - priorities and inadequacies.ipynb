{
 "cells": [
  {
   "cell_type": "markdown",
   "id": "9190883d",
   "metadata": {},
   "source": [
    "<div align=\"center\"><b><font size=\"1\"> LearnPlatform COVID-19 Impact on Digital Learning </font> </b></div>\n",
    "   \n",
    " \n",
    "    \n",
    " \n",
    "        \n",
    " <div align=\"center\"><b><font size=\"3.5\"><a id =''> During COVID-19, what are the effects of State and Federal funding  - priorities and inadequacies?</a>\n",
    "\n",
    "    \n",
    "  <div align=\"right\"><b><font size=\"1.0\"> Presented by: Babatunde Sogunro.   jombaba.s7@gmail.com /  </font> </b></div>\n"
   ]
  },
  {
   "cell_type": "markdown",
   "id": "530f4f0f",
   "metadata": {},
   "source": [
    " - The aim is to examine Local and Federal funding patterns with respect to the eligibility of students either for free lunch or for reduced-price lunch.\n",
    "   - Typically, the % of students taking part in these food programs should increase given the availabilty of Federal funds spent to reinburse State funds spent on feeding the children.\n",
    "   \n",
    "\"Children are America's greatest treasure, and ensuring their health is one of our most important duties as parents, families, and community members. Our children's continued ability to learn in the classroom, grow up healthy, and reach their full potential will depend on what we do now to secure their future. The National School Lunch Program has been a central part of our Nation's commitment to healthy children since its inception in 1946, improving the nutrition of generations of children with affordable, nutritious meals at school. It now serves tens of millions of children every day.\"\n",
    "\n",
    "(extracted from Proclamation 8733:National School Lunch Week, 2011 by Barack Obama. \n",
    "\n",
    "https://en.wikisource.org/wiki/National_School_Lunch_Week,_2011 )"
   ]
  },
  {
   "cell_type": "markdown",
   "id": "3b165351",
   "metadata": {},
   "source": [
    "The following is the approach taken in answering this question:\n",
    "- analysed data to the extent to which it provides answer to students' eligibilty for free lunch or reduced-price lunch.\n",
    "\n",
    "- used subsets and combinations of the datasets for the analysis.\n",
    "  \n",
    "- used Machine Learning and Statistical techniques to analyse the data.\n",
    "\n",
    "- plausible answers to the question will emerge from insights provided by results of data analysis."
   ]
  },
  {
   "cell_type": "code",
   "execution_count": 1,
   "id": "09ff0cd7",
   "metadata": {},
   "outputs": [],
   "source": [
    "# This Python 3 environment comes with many helpful analytics libraries installed\n",
    "# It is defined by the kaggle/python Docker image: https://github.com/kaggle/docker-python\n",
    "# For example, here's several helpful packages to load\n",
    "\n",
    "# load python modules and libraries\n",
    "import numpy as np # linear algebra\n",
    "import pandas as pd # data processing, CSV file I/O (e.g. pd.read_csv)\n",
    "from sklearn.model_selection import train_test_split\n",
    "# import machine learning algorithms\n",
    "from sklearn.ensemble import GradientBoostingClassifier\n",
    "from sklearn.metrics import classification_report, confusion_matrix, roc_curve, auc\n",
    "import matplotlib.pyplot as plt\n",
    "from sklearn.metrics import plot_roc_curve"
   ]
  },
  {
   "cell_type": "code",
   "execution_count": 2,
   "id": "c436dcd2",
   "metadata": {},
   "outputs": [],
   "source": [
    "### LOAD THE DATA\n",
    "\n",
    "# load data for eligibilty for free lunch analysis\n",
    "df = pd.read_csv('C:/Users/Owner/Desktop/DISTRICTS101DATACLEANED.csv')\n",
    "\n",
    "# load data for eligibility for reduced-price lunch analysis\n",
    "df1 = pd.read_csv('C:/Users/Owner/Desktop/DISTRICTS101DATACLEANED_2.csv')"
   ]
  },
  {
   "cell_type": "code",
   "execution_count": 3,
   "id": "d472ef1f",
   "metadata": {},
   "outputs": [
    {
     "name": "stdout",
     "output_type": "stream",
     "text": [
      "<class 'pandas.core.frame.DataFrame'>\n",
      "RangeIndex: 88 entries, 0 to 87\n",
      "Data columns (total 17 columns):\n",
      " #   Column                    Non-Null Count  Dtype  \n",
      "---  ------                    --------------  -----  \n",
      " 0   district_id               88 non-null     int64  \n",
      " 1   state                     88 non-null     object \n",
      " 2   pct_black                 88 non-null     float64\n",
      " 3   pct_hispanic              88 non-null     float64\n",
      " 4   pct_black_hispanic        88 non-null     float64\n",
      " 5   pct_white                 88 non-null     float64\n",
      " 6   pct_free_lunch            88 non-null     float64\n",
      " 7   pct_reduced_price_lunch   88 non-null     float64\n",
      " 8   county_connections_ratio  88 non-null     object \n",
      " 9   local_expenditure         88 non-null     int64  \n",
      " 10  federal_expenditure       88 non-null     int64  \n",
      " 11  target_+                  88 non-null     uint8  \n",
      " 12  target_-                  88 non-null     uint8  \n",
      " 13  locale_City               88 non-null     uint8  \n",
      " 14  locale_Rural              88 non-null     uint8  \n",
      " 15  locale_Suburb             88 non-null     uint8  \n",
      " 16  locale_Town               88 non-null     uint8  \n",
      "dtypes: float64(6), int64(3), object(2), uint8(6)\n",
      "memory usage: 8.2+ KB\n",
      "Learning rate:  0.05\n",
      "Accuracy score (training): 0.833\n",
      "Accuracy score (test): 0.727\n",
      "\n",
      "Learning rate:  0.1\n",
      "Accuracy score (training): 0.864\n",
      "Accuracy score (test): 0.864\n",
      "\n",
      "Learning rate:  0.25\n",
      "Accuracy score (training): 0.879\n",
      "Accuracy score (test): 0.818\n",
      "\n",
      "Learning rate:  0.5\n",
      "Accuracy score (training): 0.894\n",
      "Accuracy score (test): 0.727\n",
      "\n",
      "Learning rate:  0.75\n",
      "Accuracy score (training): 0.894\n",
      "Accuracy score (test): 0.727\n",
      "\n",
      "Learning rate:  1\n",
      "Accuracy score (training): 0.894\n",
      "Accuracy score (test): 0.818\n",
      "\n"
     ]
    }
   ],
   "source": [
    "# convert values in thepct_free_lunch column\n",
    "df.loc[df['pct_free_lunch'] == 0.0, 'target'] = '-'\n",
    "df.loc[df['pct_free_lunch'] == 0.2, 'target'] = '-'\n",
    "df.loc[df['pct_free_lunch'] == 0.4, 'target'] = '+'\n",
    "df.loc[df['pct_free_lunch'] == 0.6, 'target'] = '+'\n",
    "df.loc[df['pct_free_lunch'] == 0.8, 'target'] = '+'\n",
    "\n",
    "\n",
    "# generate features and outcome variables\n",
    "X = features = df[['locale','pct_black','pct_hispanic','local_expenditure']].values.reshape((df.shape[0],4))\n",
    "y = outcome = df['target'].values\n",
    "\n",
    "# covert objects to numbers by pandas.get_dummies\n",
    "df_dummies = pd.get_dummies(df,columns=(['target','locale']))\n",
    "\n",
    "# replace nulls with 0.0\n",
    "df_dummies.fillna(value=0.0, inplace=True)\n",
    "\n",
    "# generate features and outcome variables\n",
    "X = features = df_dummies[['pct_black','pct_hispanic','local_expenditure','locale_City','locale_Rural','locale_Suburb','locale_Town']].values.reshape((df.shape[0],7))\n",
    "#y = outcome = df_dummies['target'].values\n",
    "df_dummies.info(), df_dummies.head(3),\n",
    "\n",
    "# generate features sets (X)\n",
    "X_train = df_dummies.values[0:88]\n",
    "X_test = df_dummies.values[88:]\n",
    "X_train.shape, X_test.shape\n",
    "\n",
    "# split training feature and target sets into training and validation subsets\n",
    "X_train, X_test, y_train, y_test = train_test_split(X, y, random_state=42)\n",
    "\n",
    "# train with Gradient Boosting algorithm\n",
    "# compute the accuracy scores on train and test sets when training with different learning rates\n",
    "\n",
    "learning_rates = [0.05, 0.1, 0.25, 0.5, 0.75, 1]\n",
    "for learning_rate in learning_rates:\n",
    "    gb = GradientBoostingClassifier(n_estimators=20, learning_rate = learning_rate, max_features=2, max_depth = 2, random_state = 0)\n",
    "    gb.fit(X_train, y_train)\n",
    "    print(\"Learning rate: \", learning_rate)\n",
    "    print(\"Accuracy score (training): {0:.3f}\".format(gb.score(X_train, y_train)))\n",
    "    print(\"Accuracy score (test): {0:.3f}\".format(gb.score(X_test, y_test)))\n",
    "\n",
    "    print()"
   ]
  },
  {
   "cell_type": "code",
   "execution_count": 4,
   "id": "0fc5b751",
   "metadata": {},
   "outputs": [
    {
     "name": "stdout",
     "output_type": "stream",
     "text": [
      "Confusion Matrix:\n",
      "[[ 6  3]\n",
      " [ 3 10]]\n",
      "\n",
      "Classification Report\n",
      "              precision    recall  f1-score   support\n",
      "\n",
      "           +       0.67      0.67      0.67         9\n",
      "           -       0.77      0.77      0.77        13\n",
      "\n",
      "    accuracy                           0.73        22\n",
      "   macro avg       0.72      0.72      0.72        22\n",
      "weighted avg       0.73      0.73      0.73        22\n",
      "\n"
     ]
    }
   ],
   "source": [
    "# Output confusion matrix and classification report of Gradient Boosting algorithm on test set\n",
    "\n",
    "gb = GradientBoostingClassifier(n_estimators=20, learning_rate = 0.5, max_features=2, max_depth = 2, random_state = 0)\n",
    "gb.fit(X_train, y_train)\n",
    "predictions = gb.predict(X_test)\n",
    "\n",
    "print(\"Confusion Matrix:\")\n",
    "print(confusion_matrix(y_test, predictions))\n",
    "print()\n",
    "print(\"Classification Report\")\n",
    "print(classification_report(y_test, predictions))"
   ]
  },
  {
   "cell_type": "code",
   "execution_count": 5,
   "id": "8b97579d",
   "metadata": {},
   "outputs": [
    {
     "name": "stderr",
     "output_type": "stream",
     "text": [
      "C:\\Users\\Owner\\anaconda3_08222021\\lib\\site-packages\\sklearn\\utils\\deprecation.py:87: FutureWarning: Function plot_roc_curve is deprecated; Function `plot_roc_curve` is deprecated in 1.0 and will be removed in 1.2. Use one of the class methods: RocCurveDisplay.from_predictions or RocCurveDisplay.from_estimator.\n",
      "  warnings.warn(msg, category=FutureWarning)\n"
     ]
    },
    {
     "data": {
      "image/png": "[encoded data removed]",
      "text/plain": [
       "<Figure size 432x288 with 1 Axes>"
      ]
     },
     "metadata": {
      "needs_background": "light"
     },
     "output_type": "display_data"
    }
   ],
   "source": [
    "gb.fit(X_train, y_train)\n",
    "ax=plt.gca()\n",
    "gb_display = plot_roc_curve(gb,X_test,y_test,ax=ax,alpha=0.8)\n",
    "plt.show()"
   ]
  },
  {
   "cell_type": "code",
   "execution_count": 6,
   "id": "f12fcafa",
   "metadata": {},
   "outputs": [
    {
     "name": "stdout",
     "output_type": "stream",
     "text": [
      "Learning rate:  0.05\n",
      "Accuracy score (training): 0.833\n",
      "Accuracy score (test): 0.727\n",
      "\n",
      "Learning rate:  0.1\n",
      "Accuracy score (training): 0.864\n",
      "Accuracy score (test): 0.864\n",
      "\n",
      "Learning rate:  0.25\n",
      "Accuracy score (training): 0.879\n",
      "Accuracy score (test): 0.818\n",
      "\n",
      "Learning rate:  0.5\n",
      "Accuracy score (training): 0.894\n",
      "Accuracy score (test): 0.727\n",
      "\n",
      "Learning rate:  0.75\n",
      "Accuracy score (training): 0.894\n",
      "Accuracy score (test): 0.727\n",
      "\n",
      "Learning rate:  1\n",
      "Accuracy score (training): 0.894\n",
      "Accuracy score (test): 0.818\n",
      "\n"
     ]
    }
   ],
   "source": [
    "# convert values in thepct_free_lunch column\n",
    "df1.loc[df['pct_reduced_price_lunch'] == 0.2, 'target'] = '-'\n",
    "df1.loc[df['pct_reduced_price_lunch'] == 0.4, 'target'] = '-'\n",
    "df1.loc[df['pct_reduced_price_lunch'] == 0.6, 'target'] = '+'\n",
    "df1.loc[df['pct_reduced_price_lunch'] == 0.8, 'target'] = '+'\n",
    "df1.loc[df['pct_reduced_price_lunch'] == 1, 'target'] = '+'\n",
    "\n",
    "# generate features and outcome variables\n",
    "X = features = df1[['locale','pct_black','pct_hispanic','local_expenditure']].values.reshape((df1.shape[0],4))\n",
    "y = outcome = df1['target'].values\n",
    "\n",
    "# covert objects to numbers by pandas.get_dummies\n",
    "df1_dummies = pd.get_dummies(df1,columns=(['target','locale']))\n",
    "\n",
    "# replace nulls with 0.0\n",
    "df1_dummies.fillna(value=0.0, inplace=True)\n",
    "\n",
    "# generate features and outcome variables\n",
    "X = features = df1_dummies[['pct_black','pct_hispanic','local_expenditure','locale_City','locale_Rural','locale_Suburb','locale_Town']].values.reshape((df.shape[0],7))\n",
    "#y = outcome = df_dummies['target'].values #.reshape((df.shape[1],2))\n",
    "#y = outcome = df_dummies['target_+','target_-'].values\n",
    "\n",
    "# generate features sets (X)\n",
    "X_train = df1_dummies.values[0:88]\n",
    "X_test = df1_dummies.values[88:]\n",
    "#X_train.shape, X_test.shape\n",
    "\n",
    "# split training feature and target sets into training and validation subsets\n",
    "X_train, X_test, y_train, y_test = train_test_split(X, y, random_state=42)\n",
    "# train with Gradient Boosting algorithm\n",
    "# compute the accuracy scores on train and test sets when training with different learning rates\n",
    "\n",
    "learning_rates = [0.05, 0.1, 0.25, 0.5, 0.75, 1]\n",
    "for learning_rate in learning_rates:\n",
    "    gb = GradientBoostingClassifier(n_estimators=20, learning_rate = learning_rate, max_features=2, max_depth = 2, random_state = 0)\n",
    "    gb.fit(X_train, y_train)\n",
    "    print(\"Learning rate: \", learning_rate)\n",
    "    print(\"Accuracy score (training): {0:.3f}\".format(gb.score(X_train, y_train)))\n",
    "    print(\"Accuracy score (test): {0:.3f}\".format(gb.score(X_test, y_test)))\n",
    "\n",
    "    print()"
   ]
  },
  {
   "cell_type": "code",
   "execution_count": 7,
   "id": "54370e4d",
   "metadata": {},
   "outputs": [
    {
     "name": "stdout",
     "output_type": "stream",
     "text": [
      "Confusion Matrix:\n",
      "[[ 6  3]\n",
      " [ 3 10]]\n",
      "\n",
      "Classification Report\n",
      "              precision    recall  f1-score   support\n",
      "\n",
      "           +       0.67      0.67      0.67         9\n",
      "           -       0.77      0.77      0.77        13\n",
      "\n",
      "    accuracy                           0.73        22\n",
      "   macro avg       0.72      0.72      0.72        22\n",
      "weighted avg       0.73      0.73      0.73        22\n",
      "\n"
     ]
    }
   ],
   "source": [
    "# Output confusion matrix and classification report of Gradient Boosting algorithm on test set\n",
    "\n",
    "gb = GradientBoostingClassifier(n_estimators=20, learning_rate = 0.5, max_features=2, max_depth = 2, random_state = 0)\n",
    "gb.fit(X_train, y_train)\n",
    "predictions = gb.predict(X_test)\n",
    "\n",
    "print(\"Confusion Matrix:\")\n",
    "print(confusion_matrix(y_test, predictions))\n",
    "print()\n",
    "print(\"Classification Report\")\n",
    "print(classification_report(y_test, predictions))"
   ]
  },
  {
   "cell_type": "code",
   "execution_count": 8,
   "id": "55d1eb8e",
   "metadata": {},
   "outputs": [
    {
     "name": "stderr",
     "output_type": "stream",
     "text": [
      "C:\\Users\\Owner\\anaconda3_08222021\\lib\\site-packages\\sklearn\\utils\\deprecation.py:87: FutureWarning: Function plot_roc_curve is deprecated; Function `plot_roc_curve` is deprecated in 1.0 and will be removed in 1.2. Use one of the class methods: RocCurveDisplay.from_predictions or RocCurveDisplay.from_estimator.\n",
      "  warnings.warn(msg, category=FutureWarning)\n"
     ]
    },
    {
     "data": {
      "image/png": "[encoded data removed]",
      "text/plain": [
       "<Figure size 432x288 with 1 Axes>"
      ]
     },
     "metadata": {
      "needs_background": "light"
     },
     "output_type": "display_data"
    }
   ],
   "source": [
    "\n",
    "gb.fit(X_train, y_train)\n",
    "ax=plt.gca()\n",
    "gb_display = plot_roc_curve(gb,X_test,y_test,ax=ax,alpha=0.8)\n",
    "plt.show()"
   ]
  },
  {
   "cell_type": "markdown",
   "id": "f8c8d3db",
   "metadata": {},
   "source": [
    "####   <a id=\"\"> Data Analysis Results </a> \n",
    "   - results of data analysis for question 3 are presented below:-\n",
    "      - confusion matrix\n",
    "      - classification report\n",
    "\n",
    "NOTE: The GradientBoostingClassifier model churned out the same results for both 'Free Lunch' and 'Reduced-Price Lunch' categories."
   ]
  },
  {
   "cell_type": "code",
   "execution_count": 9,
   "id": "93a9fcb1",
   "metadata": {},
   "outputs": [
    {
     "name": "stdout",
     "output_type": "stream",
     "text": [
      "Confusion Matrix:\n",
      "[[ 6  3]\n",
      " [ 3 10]]\n",
      "\n",
      "Classification Report\n",
      "              precision    recall  f1-score   support\n",
      "\n",
      "           +       0.67      0.67      0.67         9\n",
      "           -       0.77      0.77      0.77        13\n",
      "\n",
      "    accuracy                           0.73        22\n",
      "   macro avg       0.72      0.72      0.72        22\n",
      "weighted avg       0.73      0.73      0.73        22\n",
      "\n"
     ]
    }
   ],
   "source": [
    "# Output confusion matrix and classification report\n",
    "print(\"Confusion Matrix:\")\n",
    "print(confusion_matrix(y_test, predictions))\n",
    "print()\n",
    "print(\"Classification Report\")\n",
    "print(classification_report(y_test, predictions))"
   ]
  },
  {
   "cell_type": "markdown",
   "id": "f603316a",
   "metadata": {},
   "source": [
    "#### <a id=\"\"> Possible Direction for Policy(ies) </a>\n",
    "Data revealed the following evidence that could be useful considerations in policy formulation.\n",
    "   - the model was about 85% (AUC=0.85) successful in seperating the students this way.\n",
    "   - on average 23% of those declared positive might in fact be negative.\n",
    "   - among all students classified into the positive group (those eligible), about 33% of these are truly belong to the negative group (those ineligible).\n",
    "   - the true negative rate = 0.77 while, the true positive rate = 0.67. This means that the model performs better at correctly predicting the negative group.\n",
    "   \n",
    "This evidence should be taken into consideration in (for example, what steps need to be taken to reduce wasteage of funds) formulating firmer policy(ies) in the use of funds."
   ]
  }
 ],
 "metadata": {
  "kernelspec": {
   "display_name": "Python 3 (ipykernel)",
   "language": "python",
   "name": "python3"
  },
  "language_info": {
   "codemirror_mode": {
    "name": "ipython",
    "version": 3
   },
   "file_extension": ".py",
   "mimetype": "text/x-python",
   "name": "python",
   "nbconvert_exporter": "python",
   "pygments_lexer": "ipython3",
   "version": "3.9.12"
  }
 },
 "nbformat": 4,
 "nbformat_minor": 5
}
